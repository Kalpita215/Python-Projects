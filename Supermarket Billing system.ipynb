{
 "cells": [
  {
   "cell_type": "code",
   "execution_count": 4,
   "id": "7642fcae-bbfe-4891-8b3b-123050264a35",
   "metadata": {},
   "outputs": [
    {
     "name": "stdout",
     "output_type": "stream",
     "text": [
      "Welcome to Supermarket Billing System\n"
     ]
    },
    {
     "name": "stdin",
     "output_type": "stream",
     "text": [
      "enter your name: Kalpita Hazra\n",
      "enter phone number: 9876543210\n"
     ]
    },
    {
     "name": "stdout",
     "output_type": "stream",
     "text": [
      "------- Products list -------\n",
      " Apple : 40\n",
      " Chips : 20\n",
      " Avacado : 105\n",
      " Cola : 40\n"
     ]
    },
    {
     "name": "stdin",
     "output_type": "stream",
     "text": [
      "enter product name you wish to buy: Apple\n",
      "enter quantity you wish to buy: 12\n",
      "do you want to add more items?(Yes/No) Yes\n",
      "enter product name you wish to buy: Avacado\n",
      "enter quantity you wish to buy: 5\n",
      "do you want to add more items?(Yes/No) Yes\n",
      "enter product name you wish to buy: Cola\n",
      "enter quantity you wish to buy: 3\n",
      "do you want to add more items?(Yes/No) No\n"
     ]
    },
    {
     "name": "stdout",
     "output_type": "stream",
     "text": [
      "________________________________________\n",
      "Name: Kalpita Hazra\n",
      "Phone: 9876543210\n",
      "Apple price: 40 X 12.0 = 480.0\n",
      "Avacado price: 105 X 5.0 = 525.0\n",
      "Cola price: 40 X 3.0 = 120.0\n",
      "Total Amount: 1125.0\n",
      "Discount Applied: 10.0 %\n",
      "________________________________________\n",
      "Payable Amount: 1012.5\n",
      "________________________________________\n"
     ]
    },
    {
     "name": "stdin",
     "output_type": "stream",
     "text": [
      "next person? No\n"
     ]
    },
    {
     "name": "stdout",
     "output_type": "stream",
     "text": [
      "Thank you for Shopping\n"
     ]
    }
   ],
   "source": [
    "print(\"Welcome to Supermarket Billing System\")\n",
    "\n",
    "#Items from the Supermarket \n",
    "Products = {\"Apple\":40, \"Chips\":20, \"Avacado\":105, \"Cola\":40}\n",
    "\n",
    "while True:\n",
    "    #Initial value of variable\n",
    "    Cart = {}\n",
    "    amount = 0\n",
    "    discount = 0\n",
    "    \n",
    "    #Customer Details\n",
    "    name = input(\"enter your name:\")\n",
    "    ph_no = input(\"enter phone number:\")\n",
    "    \n",
    "    print('-'*7,\"Products list\",\"-\"*7)\n",
    "    for i, j in Products.items():\n",
    "        print(''*7,i,\":\",j)\n",
    "        \n",
    "    while True:\n",
    "        #Adding Items\n",
    "        p_name = input(\"enter product name you wish to buy:\").capitalize()\n",
    "        quantity = float(input(\"enter quantity you wish to buy:\"))\n",
    "        val = []\n",
    "        val.append(Products[p_name])\n",
    "        val.append(quantity)\n",
    "        val.append(quantity*Products[p_name])\n",
    "        Cart[p_name] = val\n",
    "        amount += Products [p_name]*quantity\n",
    "        repeat = input(\"do you want to add more items?(Yes/No)\").capitalize()\n",
    "        if repeat == \"No\":\n",
    "            break\n",
    "            \n",
    "    #Discount Calculation       \n",
    "    if amount <=500:\n",
    "        discount = 0\n",
    "    elif amount <=1000:\n",
    "        discount = 0.05\n",
    "    elif amount <=3000:\n",
    "        discount = 0.10\n",
    "    else:\n",
    "        discount = 0.15\n",
    "    act_amount = amount-(amount*discount)\n",
    "\n",
    "    #Printing the Bill\n",
    "    print(\"_\"*40)\n",
    "    print(\"Name:\", name)\n",
    "    print(\"Phone:\", ph_no)\n",
    "    for i, j in Cart.items():\n",
    "        print(i,\"price:\",j[0],\"X\",j[1],\"=\",j[2])\n",
    "    print(\"Total Amount:\",amount)\n",
    "    print(\"Discount Applied:\", discount*100,\"%\")\n",
    "    print(\"_\"*40)\n",
    "    print(\"Payable Amount:\", act_amount)\n",
    "    print(\"_\"*40)\n",
    "    n_person = input(\"next person?\").capitalize()\n",
    "    if n_person == \"No\":\n",
    "        break\n",
    "\n",
    "print(\"Thank you for Shopping\")\n",
    "        "
   ]
  },
  {
   "cell_type": "code",
   "execution_count": null,
   "id": "db60e5d7-bec7-45b3-a9ca-5952f331611f",
   "metadata": {},
   "outputs": [],
   "source": []
  }
 ],
 "metadata": {
  "kernelspec": {
   "display_name": "Python 3 (ipykernel)",
   "language": "python",
   "name": "python3"
  },
  "language_info": {
   "codemirror_mode": {
    "name": "ipython",
    "version": 3
   },
   "file_extension": ".py",
   "mimetype": "text/x-python",
   "name": "python",
   "nbconvert_exporter": "python",
   "pygments_lexer": "ipython3",
   "version": "3.12.4"
  }
 },
 "nbformat": 4,
 "nbformat_minor": 5
}
