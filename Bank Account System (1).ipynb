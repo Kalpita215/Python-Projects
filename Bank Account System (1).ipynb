{
 "cells": [
  {
   "cell_type": "code",
   "execution_count": 1,
   "id": "e1976278-1d02-4c57-a6a3-76205ab81c63",
   "metadata": {},
   "outputs": [
    {
     "name": "stdout",
     "output_type": "stream",
     "text": [
      "\n",
      "Bank Account Management System\n",
      "1. Open a New Account\n",
      "2. View Account Details\n",
      "3. Deposit Money\n",
      "4. Withdraw Money\n",
      "5. Transfer Money\n",
      "6. View Transaction History\n",
      "7. View Summary Statistics\n",
      "8. Exit\n"
     ]
    },
    {
     "name": "stdin",
     "output_type": "stream",
     "text": [
      "Enter your choice:  1\n",
      "Enter account holder's name:  Kalpita Hazra\n",
      "Enter account type (Savings/Current):  savings\n",
      "Enter initial balance:  50000\n"
     ]
    },
    {
     "name": "stdout",
     "output_type": "stream",
     "text": [
      "Account created successfully! Account No: 19530003709, User ID: kalpita_hazra3709, Password: 332185\n",
      "\n",
      "Bank Account Management System\n",
      "1. Open a New Account\n",
      "2. View Account Details\n",
      "3. Deposit Money\n",
      "4. Withdraw Money\n",
      "5. Transfer Money\n",
      "6. View Transaction History\n",
      "7. View Summary Statistics\n",
      "8. Exit\n"
     ]
    },
    {
     "name": "stdin",
     "output_type": "stream",
     "text": [
      "Enter your choice:  2\n",
      "Enter account number:  19530003709\n",
      "Enter account password:  332185\n"
     ]
    },
    {
     "name": "stdout",
     "output_type": "stream",
     "text": [
      "Account Holder: Kalpita Hazra\n",
      "Account Type: Savings\n",
      "Account Balance: 50000.0\n",
      "\n",
      "Bank Account Management System\n",
      "1. Open a New Account\n",
      "2. View Account Details\n",
      "3. Deposit Money\n",
      "4. Withdraw Money\n",
      "5. Transfer Money\n",
      "6. View Transaction History\n",
      "7. View Summary Statistics\n",
      "8. Exit\n"
     ]
    },
    {
     "name": "stdin",
     "output_type": "stream",
     "text": [
      "Enter your choice:  3\n",
      "Enter account number:  19530003709\n",
      "Enter amount to deposit:  20000\n"
     ]
    },
    {
     "name": "stdout",
     "output_type": "stream",
     "text": [
      "Deposited 20000.0 successfully! New Balance: 70000.0\n",
      "\n",
      "Bank Account Management System\n",
      "1. Open a New Account\n",
      "2. View Account Details\n",
      "3. Deposit Money\n",
      "4. Withdraw Money\n",
      "5. Transfer Money\n",
      "6. View Transaction History\n",
      "7. View Summary Statistics\n",
      "8. Exit\n"
     ]
    },
    {
     "name": "stdin",
     "output_type": "stream",
     "text": [
      "Enter your choice:  4\n",
      "Enter account number:  19530003709\n",
      "Enter amount to withdraw:  2000\n"
     ]
    },
    {
     "name": "stdout",
     "output_type": "stream",
     "text": [
      "Withdrew 2000.0 successfully! New Balance: 68000.0\n",
      "\n",
      "Bank Account Management System\n",
      "1. Open a New Account\n",
      "2. View Account Details\n",
      "3. Deposit Money\n",
      "4. Withdraw Money\n",
      "5. Transfer Money\n",
      "6. View Transaction History\n",
      "7. View Summary Statistics\n",
      "8. Exit\n"
     ]
    },
    {
     "name": "stdin",
     "output_type": "stream",
     "text": [
      "Enter your choice:  5\n",
      "Enter sender account number:  19530003709\n",
      "Enter recipient account number:  11234565431\n",
      "Enter amount to transfer:  5000\n"
     ]
    },
    {
     "name": "stdout",
     "output_type": "stream",
     "text": [
      "Invalid account numbers or insufficient funds.\n",
      "\n",
      "Bank Account Management System\n",
      "1. Open a New Account\n",
      "2. View Account Details\n",
      "3. Deposit Money\n",
      "4. Withdraw Money\n",
      "5. Transfer Money\n",
      "6. View Transaction History\n",
      "7. View Summary Statistics\n",
      "8. Exit\n"
     ]
    },
    {
     "name": "stdin",
     "output_type": "stream",
     "text": [
      "Enter your choice:  6\n",
      "Enter account number:  19530003709\n"
     ]
    },
    {
     "name": "stdout",
     "output_type": "stream",
     "text": [
      "Date: 2025-02-01 19:37:25, Type: Deposit, Amount: 20000.0, Target Account: None\n",
      "Date: 2025-02-01 19:37:45, Type: Withdrawal, Amount: 2000.0, Target Account: None\n",
      "\n",
      "Bank Account Management System\n",
      "1. Open a New Account\n",
      "2. View Account Details\n",
      "3. Deposit Money\n",
      "4. Withdraw Money\n",
      "5. Transfer Money\n",
      "6. View Transaction History\n",
      "7. View Summary Statistics\n",
      "8. Exit\n"
     ]
    },
    {
     "name": "stdin",
     "output_type": "stream",
     "text": [
      "Enter your choice:  7\n",
      "Enter account number:  19530003709\n"
     ]
    },
    {
     "name": "stdout",
     "output_type": "stream",
     "text": [
      "Total Deposits: 20000.0\n",
      "Total Withdrawals: 2000.0\n",
      "Average Transaction Amount: 11000.0\n",
      "\n",
      "Bank Account Management System\n",
      "1. Open a New Account\n",
      "2. View Account Details\n",
      "3. Deposit Money\n",
      "4. Withdraw Money\n",
      "5. Transfer Money\n",
      "6. View Transaction History\n",
      "7. View Summary Statistics\n",
      "8. Exit\n"
     ]
    },
    {
     "name": "stdin",
     "output_type": "stream",
     "text": [
      "Enter your choice:  8\n"
     ]
    },
    {
     "name": "stdout",
     "output_type": "stream",
     "text": [
      "Exiting program. Goodbye!\n"
     ]
    }
   ],
   "source": [
    "import pickle\n",
    "import os\n",
    "import random\n",
    "import numpy as np\n",
    "from datetime import datetime\n",
    "\n",
    "# File to store account data\n",
    "DATA_FILE = 'accounts_data.pkl'\n",
    "TRANSACTIONS_FILE = 'transactions_data.pkl'\n",
    "\n",
    "# Initialize data\n",
    "accounts = {}\n",
    "transactions = []\n",
    "\n",
    "# Load data from files\n",
    "if os.path.exists(DATA_FILE):\n",
    "    with open(DATA_FILE, 'rb') as file:\n",
    "        accounts = pickle.load(file)\n",
    "\n",
    "if os.path.exists(TRANSACTIONS_FILE):\n",
    "    with open(TRANSACTIONS_FILE, 'rb') as file:\n",
    "        transactions = pickle.load(file)\n",
    "\n",
    "def generate_account_number():\n",
    "    return str(random.randint(10**10, 10**11 - 1))\n",
    "\n",
    "def create_password():\n",
    "    return str(random.randint(100000, 999999))\n",
    "\n",
    "def save_data():\n",
    "    with open(DATA_FILE, 'wb') as file:\n",
    "        pickle.dump(accounts, file)\n",
    "    with open(TRANSACTIONS_FILE, 'wb') as file:\n",
    "        pickle.dump(transactions, file)\n",
    "\n",
    "def record_transaction(account_no, type_, amount, target_account=None):\n",
    "    transaction = {\n",
    "        'account_no': account_no,\n",
    "        'type': type_,\n",
    "        'amount': amount,\n",
    "        'date': datetime.now().strftime('%Y-%m-%d %H:%M:%S'),\n",
    "        'target_account': target_account\n",
    "    }\n",
    "    transactions.append(transaction)\n",
    "    save_data()\n",
    "\n",
    "# Main Functions\n",
    "def open_account():\n",
    "    name = input(\"Enter account holder's name: \")\n",
    "    account_type = input(\"Enter account type (Savings/Current): \").capitalize()\n",
    "    initial_balance = float(input(\"Enter initial balance: \"))\n",
    "    \n",
    "    account_no = generate_account_number()\n",
    "    password = create_password()\n",
    "    user_id = name.lower().replace(' ', '_') + account_no[-4:]\n",
    "\n",
    "    accounts[account_no] = {\n",
    "        'name': name,\n",
    "        'type': account_type,\n",
    "        'balance': initial_balance,\n",
    "        'password': password,\n",
    "        'user_id': user_id\n",
    "    }\n",
    "    save_data()\n",
    "    print(f\"Account created successfully! Account No: {account_no}, User ID: {user_id}, Password: {password}\")\n",
    "\n",
    "def view_account():\n",
    "    account_no = input(\"Enter account number: \")\n",
    "    password = input(\"Enter account password: \")\n",
    "    account = accounts.get(account_no)\n",
    "\n",
    "    if account and account['password'] == password:\n",
    "        print(f\"Account Holder: {account['name']}\")\n",
    "        print(f\"Account Type: {account['type']}\")\n",
    "        print(f\"Account Balance: {account['balance']}\")\n",
    "    else:\n",
    "        print(\"Invalid account number or password.\")\n",
    "\n",
    "def deposit():\n",
    "    account_no = input(\"Enter account number: \")\n",
    "    amount = float(input(\"Enter amount to deposit: \"))\n",
    "\n",
    "    if account_no in accounts and amount > 0:\n",
    "        accounts[account_no]['balance'] += amount\n",
    "        record_transaction(account_no, 'Deposit', amount)\n",
    "        print(f\"Deposited {amount} successfully! New Balance: {accounts[account_no]['balance']}\")\n",
    "    else:\n",
    "        print(\"Invalid account number or amount.\")\n",
    "\n",
    "def withdraw():\n",
    "    account_no = input(\"Enter account number: \")\n",
    "    amount = float(input(\"Enter amount to withdraw: \"))\n",
    "\n",
    "    if account_no in accounts and 0 < amount <= accounts[account_no]['balance']:\n",
    "        accounts[account_no]['balance'] -= amount\n",
    "        record_transaction(account_no, 'Withdrawal', amount)\n",
    "        print(f\"Withdrew {amount} successfully! New Balance: {accounts[account_no]['balance']}\")\n",
    "    else:\n",
    "        print(\"Invalid account number or insufficient funds.\")\n",
    "\n",
    "def transfer():\n",
    "    sender_account = input(\"Enter sender account number: \")\n",
    "    recipient_account = input(\"Enter recipient account number: \")\n",
    "    amount = float(input(\"Enter amount to transfer: \"))\n",
    "\n",
    "    if sender_account in accounts and recipient_account in accounts and accounts[sender_account]['balance'] >= amount and amount > 0:\n",
    "        accounts[sender_account]['balance'] -= amount\n",
    "        accounts[recipient_account]['balance'] += amount\n",
    "        record_transaction(sender_account, 'Transfer Out', amount, recipient_account)\n",
    "        record_transaction(recipient_account, 'Transfer In', amount, sender_account)\n",
    "        print(f\"Transferred {amount} from {sender_account} to {recipient_account} successfully!\")\n",
    "    else:\n",
    "        print(\"Invalid account numbers or insufficient funds.\")\n",
    "\n",
    "def view_transaction_history():\n",
    "    account_no = input(\"Enter account number: \")\n",
    "    history = [t for t in transactions if t['account_no'] == account_no]\n",
    "\n",
    "    if history:\n",
    "        for t in history:\n",
    "            print(f\"Date: {t['date']}, Type: {t['type']}, Amount: {t['amount']}, Target Account: {t.get('target_account', 'N/A')}\")\n",
    "    else:\n",
    "        print(\"No transactions found for this account.\")\n",
    "\n",
    "def summary_statistics():\n",
    "    account_no = input(\"Enter account number: \")\n",
    "    history = [t for t in transactions if t['account_no'] == account_no]\n",
    "\n",
    "    if history:\n",
    "        deposits = [t['amount'] for t in history if t['type'] == 'Deposit']\n",
    "        withdrawals = [t['amount'] for t in history if t['type'] == 'Withdrawal']\n",
    "        print(f\"Total Deposits: {sum(deposits)}\")\n",
    "        print(f\"Total Withdrawals: {sum(withdrawals)}\")\n",
    "        print(f\"Average Transaction Amount: {np.mean([t['amount'] for t in history])}\")\n",
    "    else:\n",
    "        print(\"No transactions found for this account.\")\n",
    "\n",
    "# Main Menu\n",
    "def main_menu():\n",
    "    while True:\n",
    "        print(\"\\nBank Account Management System\")\n",
    "        print(\"1. Open a New Account\")\n",
    "        print(\"2. View Account Details\")\n",
    "        print(\"3. Deposit Money\")\n",
    "        print(\"4. Withdraw Money\")\n",
    "        print(\"5. Transfer Money\")\n",
    "        print(\"6. View Transaction History\")\n",
    "        print(\"7. View Summary Statistics\")\n",
    "        print(\"8. Exit\")\n",
    "\n",
    "        choice = input(\"Enter your choice: \")\n",
    "        if choice == '1':\n",
    "            open_account()\n",
    "        elif choice == '2':\n",
    "            view_account()\n",
    "        elif choice == '3':\n",
    "            deposit()\n",
    "        elif choice == '4':\n",
    "            withdraw()\n",
    "        elif choice == '5':\n",
    "            transfer()\n",
    "        elif choice == '6':\n",
    "            view_transaction_history()\n",
    "        elif choice == '7':\n",
    "            summary_statistics()\n",
    "        elif choice == '8':\n",
    "            print(\"Exiting program. Goodbye!\")\n",
    "            break\n",
    "        else:\n",
    "            print(\"Invalid choice. Please try again.\")\n",
    "\n",
    "# Start the program\n",
    "main_menu()"
   ]
  },
  {
   "cell_type": "code",
   "execution_count": null,
   "id": "2d2df542-6232-41fd-885c-db2d9946dfd5",
   "metadata": {},
   "outputs": [],
   "source": []
  }
 ],
 "metadata": {
  "kernelspec": {
   "display_name": "Python 3 (ipykernel)",
   "language": "python",
   "name": "python3"
  },
  "language_info": {
   "codemirror_mode": {
    "name": "ipython",
    "version": 3
   },
   "file_extension": ".py",
   "mimetype": "text/x-python",
   "name": "python",
   "nbconvert_exporter": "python",
   "pygments_lexer": "ipython3",
   "version": "3.12.4"
  }
 },
 "nbformat": 4,
 "nbformat_minor": 5
}
